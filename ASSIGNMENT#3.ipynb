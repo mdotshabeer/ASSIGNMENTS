{
 "cells": [
  {
   "cell_type": "code",
   "execution_count": 35,
   "metadata": {},
   "outputs": [
    {
     "name": "stdout",
     "output_type": "stream",
     "text": [
      "ENTER YOUR 1ST VALUE=4\n",
      "ENTER OPERATOR=POWER\n",
      "ENTER YOUR 2ND VALUE=4\n",
      "256 ANSWER\n"
     ]
    }
   ],
   "source": [
    "val1=int(input(\"ENTER YOUR 1ST VALUE=\"))\n",
    "operator=input(\"ENTER OPERATOR=\")\n",
    "val2=int(input(\"ENTER YOUR 2ND VALUE=\"))\n",
    "\n",
    "\n",
    "if operator == \"+\":\n",
    "    val = val1 + val2\n",
    "    print(val,\"ANSWER\")\n",
    "elif operator == \"-\":\n",
    "    val = val1 - val2\n",
    "    print(val,\"ANSWER\")\n",
    "elif operator == \"*\":\n",
    "    val = val1 * val2\n",
    "    print(val,\"ANSWER\")\n",
    "elif operator == \"/\":\n",
    "    val = val1 / val2\n",
    "    print(val,\"ANSWER\")\n",
    "elif operator == \"POWER\":\n",
    "    val = val1 ** val2\n",
    "    print(val,\"ANSWER\")\n",
    "else:\n",
    "    print(\"ENTER CORRECT OPERATOR\")\n"
   ]
  },
  {
   "cell_type": "code",
   "execution_count": 8,
   "metadata": {
    "scrolled": true
   },
   "outputs": [
    {
     "name": "stdout",
     "output_type": "stream",
     "text": [
      "[3, 2, 5]\n"
     ]
    }
   ],
   "source": [
    "list1 = [3,'b',2,'w',5]\n",
    "print([x for x in list1 if isinstance(x,int)])"
   ]
  },
  {
   "cell_type": "code",
   "execution_count": 10,
   "metadata": {},
   "outputs": [
    {
     "name": "stdout",
     "output_type": "stream",
     "text": [
      "{1: 'Karachi', 2: 'Lahore', 3: 'Faisalabad', 4: 'Rawalpindi', 5: 'Multan'}\n"
     ]
    }
   ],
   "source": [
    "big_city = {1: \"Karachi\", \n",
    "            2: \"Lahore\", \n",
    "            3: \"Faisalabad\",\n",
    "            4: \"Rawalpindi\"}\n",
    "big_city[5] = \"Multan\"\n",
    "print(big_city)"
   ]
  },
  {
   "cell_type": "code",
   "execution_count": 12,
   "metadata": {},
   "outputs": [
    {
     "name": "stdout",
     "output_type": "stream",
     "text": [
      "273\n"
     ]
    }
   ],
   "source": [
    "list1 = {1:100,\n",
    "         2:-74,\n",
    "         3:247,\n",
    "        4:56,\n",
    "        5:-56}\n",
    "print(sum(list1.values()))"
   ]
  },
  {
   "cell_type": "code",
   "execution_count": 45,
   "metadata": {},
   "outputs": [
    {
     "name": "stdout",
     "output_type": "stream",
     "text": [
      "3\n",
      "2\n",
      "3\n"
     ]
    }
   ],
   "source": [
    "x = [1,2,3,5,3,2,3]\n",
    "y = []\n",
    "for a in x:\n",
    "    if a not in y:\n",
    "        y.append(a)\n",
    "    else:\n",
    "        print(a)\n",
    "    "
   ]
  },
  {
   "cell_type": "code",
   "execution_count": 62,
   "metadata": {},
   "outputs": [
    {
     "name": "stdout",
     "output_type": "stream",
     "text": [
      "Enter key to check:E\n",
      "Key is present and value of the key is:\n",
      "1\n"
     ]
    }
   ],
   "source": [
    "d={'A':1,'B':2,'C':3,'D':4,'E':1}\n",
    "key=input(\"Enter key to check:\")\n",
    "if key in d.keys():\n",
    "    print(\"Key is present and value of the key is:\")\n",
    "    print(d[key])\n",
    "else:\n",
    "    print(\"Key isn't present!\")"
   ]
  },
  {
   "cell_type": "code",
   "execution_count": null,
   "metadata": {},
   "outputs": [],
   "source": []
  }
 ],
 "metadata": {
  "kernelspec": {
   "display_name": "Python 3",
   "language": "python",
   "name": "python3"
  },
  "language_info": {
   "codemirror_mode": {
    "name": "ipython",
    "version": 3
   },
   "file_extension": ".py",
   "mimetype": "text/x-python",
   "name": "python",
   "nbconvert_exporter": "python",
   "pygments_lexer": "ipython3",
   "version": "3.7.4"
  }
 },
 "nbformat": 4,
 "nbformat_minor": 2
}
