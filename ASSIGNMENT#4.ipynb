{
 "cells": [
  {
   "cell_type": "code",
   "execution_count": 7,
   "metadata": {},
   "outputs": [
    {
     "name": "stdout",
     "output_type": "stream",
     "text": [
      "{'first_name': 'MUHAMMAD', 'last_name': 'AHSAN', 'age': '27', 'city': 'KARACHI'}\n",
      "{'first_name': 'MUHAMMAD', 'last_name': 'AHSAN', 'age': '27', 'city': 'KARACHI', 'qualification': 'INTER COMPUTER SCIENCE'}\n",
      "{'first_name': 'MUHAMMAD', 'last_name': 'AHSAN', 'age': '27', 'city': 'KARACHI', 'qualification': 'BS COMPUTER SCIENCE'}\n",
      "{'first_name': 'MUHAMMAD', 'last_name': 'AHSAN', 'age': '27', 'city': 'KARACHI'}\n"
     ]
    }
   ],
   "source": [
    "lst = {\n",
    "    \"first_name\": \"MUHAMMAD\" ,\n",
    "    \"last_name\" : \"AHSAN\",\n",
    "    \"age\"       : \"27\",\n",
    "    \"city\"      : \"KARACHI\",\n",
    "}\n",
    "print(lst)\n",
    "lst[\"qualification\"] = \"INTER COMPUTER SCIENCE\"\n",
    "print(lst)\n",
    "lst[\"qualification\"] = \"BS COMPUTER SCIENCE\"\n",
    "print(lst)\n",
    "del lst[\"qualification\"]\n",
    "print(lst)"
   ]
  },
  {
   "cell_type": "code",
   "execution_count": 24,
   "metadata": {},
   "outputs": [
    {
     "name": "stdout",
     "output_type": "stream",
     "text": [
      "{'karachi': {'country': 'PAKISTAN', 'population': '14.9 million', 'fact': 'Karachi is the largest city of Pakistan'}, 'bombay': {'country': 'INDIA', 'population': '12.8 million', 'fact': ' Mumbai is the second most populous city in India'}, 'kabul': {'country': 'AFGHANISTAN', 'population': '4.11 million', 'fact': 'Kabul is the capital and largest city of Afghanistan'}}\n"
     ]
    }
   ],
   "source": [
    "cities = {\n",
    "\"karachi\":{      \n",
    "            \"country\": \"PAKISTAN\",\n",
    "            \"population\": \"14.9 million\",\n",
    "            \"fact\"     :  \"Karachi is the largest city of Pakistan\"\n",
    "},\n",
    "\"bombay\":{      \n",
    "            \"country\": \"INDIA\",\n",
    "            \"population\": \"12.8 million\",\n",
    "            \"fact\"     :  \" Mumbai is the second most populous city in India\"\n",
    "},\n",
    "    \"kabul\": {\n",
    "            \"country\": \"AFGHANISTAN\",\n",
    "            \"population\": \"4.11 million\",\n",
    "            \"fact\"     :  \"Kabul is the capital and largest city of Afghanistan\"\n",
    "    }\n",
    "       \n",
    "   }\n",
    "print(cities)"
   ]
  },
  {
   "cell_type": "code",
   "execution_count": 1,
   "metadata": {},
   "outputs": [
    {
     "name": "stdout",
     "output_type": "stream",
     "text": [
      "How old are you? 15\n",
      "  Your ticket is $15.\n"
     ]
    }
   ],
   "source": [
    "age = input(\"How old are you? \")\n",
    "while True:\n",
    "    if age == 'quit':\n",
    "        break\n",
    "    age = int(age)\n",
    "    if age < 3:\n",
    "        print(\"  You get in free!\")\n",
    "    elif age > 3 and age < 12:\n",
    "        print(\"  Your ticket is $10.\")\n",
    "        break\n",
    "    else:\n",
    "        print(\"  Your ticket is $15.\")\n",
    "        break\n",
    "    \n",
    "         \n",
    "\n",
    "  "
   ]
  },
  {
   "cell_type": "code",
   "execution_count": 4,
   "metadata": {},
   "outputs": [
    {
     "name": "stdout",
     "output_type": "stream",
     "text": [
      "One of my favorite books is  A smarter way to learn python\n"
     ]
    }
   ],
   "source": [
    "def favorite_book(title):\n",
    "    print(\"One of my favorite books is  \" +title )\n",
    "favorite_book(\"A smarter way to learn python\")"
   ]
  },
  {
   "cell_type": "code",
   "execution_count": 3,
   "metadata": {},
   "outputs": [
    {
     "name": "stdout",
     "output_type": "stream",
     "text": [
      "Please enter your guess: 23\n",
      "Your guess is too low\n",
      "26 CORRECT ANSWER\n",
      "Please enter your 2ND guess: 5\n",
      "Your guess is too low\n",
      "26 CORRECT ANSWER\n",
      "Please enter your 3RD guess: 45\n",
      "Your guess is too high\n",
      "14 CORRECT ANSWER\n",
      "GAME OVER\n"
     ]
    }
   ],
   "source": [
    "import random\n",
    " \n",
    "hidden = random.randrange(1, 30)\n",
    "\n",
    "guess = int(input(\"Please enter your guess: \"))\n",
    "if guess == hidden:\n",
    "           print(\"Hit!\")\n",
    "           print(hidden ,\"CORRECT ANSWER\")\n",
    "elif guess < hidden:\n",
    "    print(\"Your guess is too low\")\n",
    "    print(hidden ,\"CORRECT ANSWER\")\n",
    "else:\n",
    "    print(\"Your guess is too high\")\n",
    "    print(hidden ,\"CORRECT ANSWER\")\n",
    "hidden = random.randrange(1, 30)\n",
    "\n",
    "guess = int(input(\"Please enter your 2ND guess: \"))\n",
    "if guess == hidden:\n",
    "           print(\"Hit!\")\n",
    "           print(hidden ,\"CORRECT ANSWER\")\n",
    "elif guess < hidden:\n",
    "    print(\"Your guess is too low\")\n",
    "    print(hidden ,\"CORRECT ANSWER\")\n",
    "else:\n",
    "    print(\"Your guess is too high\")\n",
    "    print(hidden ,\"CORRECT ANSWER\")\n",
    "hidden = random.randrange(1, 30)\n",
    "\n",
    "guess = int(input(\"Please enter your 3RD guess: \"))\n",
    "if guess == hidden:\n",
    "           print(\"Hit!\")\n",
    "           print(hidden ,\"CORRECT ANSWER\")\n",
    "elif guess < hidden:\n",
    "    print(\"Your guess is too low\")\n",
    "    print(hidden ,\"CORRECT ANSWER\")\n",
    "else:\n",
    "    print(\"Your guess is too high\")\n",
    "    print(hidden ,\"CORRECT ANSWER\")\n",
    "    print(\"GAME OVER\")"
   ]
  },
  {
   "cell_type": "code",
   "execution_count": null,
   "metadata": {},
   "outputs": [],
   "source": []
  },
  {
   "cell_type": "code",
   "execution_count": null,
   "metadata": {},
   "outputs": [],
   "source": []
  }
 ],
 "metadata": {
  "kernelspec": {
   "display_name": "Python 3",
   "language": "python",
   "name": "python3"
  },
  "language_info": {
   "codemirror_mode": {
    "name": "ipython",
    "version": 3
   },
   "file_extension": ".py",
   "mimetype": "text/x-python",
   "name": "python",
   "nbconvert_exporter": "python",
   "pygments_lexer": "ipython3",
   "version": "3.7.4"
  }
 },
 "nbformat": 4,
 "nbformat_minor": 2
}
