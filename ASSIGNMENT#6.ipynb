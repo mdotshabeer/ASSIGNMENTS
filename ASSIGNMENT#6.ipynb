{
 "cells": [
  {
   "cell_type": "markdown",
   "metadata": {},
   "source": [
    "**Object-oriented programming**\n",
    "Object-oriented programming (OOP) refers to a type of computer programming (software design) in which programmers define the data type of a data structure, and also the types of operations (functions) that can be applied to the data structure.\n",
    "In this way, the data structure becomes an object that includes both data and functions. In addition, programmers can create relationships between one object and another. For example, objects can inherit characteristics from other objects.\n"
   ]
  },
  {
   "cell_type": "markdown",
   "metadata": {},
   "source": [
    "**BENEFITS OF OOP**\n",
    "1. **Re-usability**\n",
    "It means reusing some facilities rather than building it again and again. This is done with the use of a class. We can use it ‘n’ number of times as per our need.\n",
    "2. **Data Redundancy**\n",
    "This is a condition created at the place of data storage (you can say Databases)where the same piece of data is held in two separate places. So the data redundancy is one of the greatest advantages of OOP.\n",
    "3. **Code Maintenance**\n",
    "This feature is more of a necessity for any programming languages, it helps users from doing re-work in many ways. It is always easy and time-saving to maintain and modify the existing codes with incorporating new changes into it.\n",
    "4. **Security**\n",
    "With the use of data hiding and abstraction mechanism, we are filtering out limited data to exposure which means we are maintaining security and providing necessary data to view.\n",
    "5. **Design Benefits**\n",
    "If you are practicing on OOPs the design benefit a user will get is in terms of designing and fixing things easily and eliminating the risks .\n",
    "6. **Better productivity**\n",
    "with the above-mentioned facts of using the application definitely enhances its users overall productivity. \n",
    "7. **Problems solving**\n",
    "Decomposing a complex problem into smaller chunks or discrete components is a good practice. OOP is specialized in this behavior, as it breaks down your software code into bite-sized – one object at a time. "
   ]
  },
  {
   "cell_type": "markdown",
   "metadata": {},
   "source": [
    "**DIFFERENCE B/W FUNCTION & METHOD**\n",
    "\n",
    "**FUNCTION**\n",
    "A function is a piece of code that is called by name. It can be passed data to operate on (i.e. the parameters) and can optionally return data (the return value). All data that is passed to a function is explicitly passed.\n",
    "\n",
    "**METHOD**\n",
    "A method is a piece of code that is called by a name that is associated with an object. In most respects it is identical to a function except for two key differences:\n",
    "A method is implicitly passed the object on which it was called.\n",
    "A method is able to operate on data that is contained within the class (remembering that an object is an instance of a class - the class is the definition, the object is an instance of that data)."
   ]
  },
  {
   "cell_type": "markdown",
   "metadata": {},
   "source": [
    "**CLASS**\n",
    "\n",
    "In object-oriented programming, a class is a blueprint for creating objects (a particular data structure), providing initial values for state (member variables or attributes), and implementations of behavior (member functions or methods).\n",
    "\n",
    "**OBJECT**\n",
    "\n",
    "An object is nothing but a self-contained component which consists of methods and properties to make a particular type of data useful. Object determines the behavior of the class. When you send a message to an object, you are asking the object to invoke or execute one of its methods.\n",
    "\n",
    "**ATTRIBUTES**\n",
    "\n",
    "In Object-oriented programming(OOP), classes and objects have attributes. Attributes are data stored inside a class or instance and represent the state or quality of the class or instance. In short, attributes store information about the instance. Also, attributes should not be confused with class functions also known as methods. One can think of attributes as noun or adjective, while methods are the verb of the class.\n",
    "\n",
    "**BEHAVIOR**\n",
    "\n",
    "A class's behavior determines how an instance of that class operates; for example, how it will \"react\" if asked to do something by another class or object or if its internal state changes. Behavior is the only way objects can do anything to themselves or have anything done to them.\n"
   ]
  },
  {
   "cell_type": "code",
   "execution_count": 17,
   "metadata": {},
   "outputs": [
    {
     "name": "stdout",
     "output_type": "stream",
     "text": [
      "Corolla\n",
      "2019\n",
      "Black\n",
      "SHABEER\n",
      "132 HP\n",
      "MEHRAN MODIFIED Name\n",
      "2018 MODIFIED MODEL\n",
      "2018 MODIFIED COLOUR\n",
      "\n",
      "\n",
      "wagonar\n",
      "2019\n",
      "Black\n",
      "Sameer\n",
      "160 HP\n"
     ]
    }
   ],
   "source": [
    "class Car():\n",
    "    def __init__(self,name,model,colour,registeration,horsepower): \n",
    "        self.name = name\n",
    "        self.model = model\n",
    "        self.colour = colour\n",
    "        self.registeration = registeration\n",
    "        self.horsepower = horsepower\n",
    "        \n",
    "    def updatename(self,newname):\n",
    "        self.name = newname\n",
    "        \n",
    "    def updatemodel(self,newmodel):\n",
    "        self.model = newmodel\n",
    "        \n",
    "    def updatecolour(self,newcolour):\n",
    "         self.colour = newcolour\n",
    "            \n",
    "car1= Car(\"Corolla\",\"2019\",\"Black\",\"SHABEER\",\"132 HP\")\n",
    "print(car1.name)\n",
    "print(car1.model)\n",
    "print(car1.colour)\n",
    "print(car1.registeration)\n",
    "print(car1.horsepower)\n",
    "car1.updatename(\"MEHRAN\")\n",
    "print(car1.name,\"MODIFIED Name\")\n",
    "car1.updatemodel(\"2018\")\n",
    "print(car1.model,\"MODIFIED MODEL\")\n",
    "car1.updatecolour(\"WHITE\")\n",
    "print(car1.model,\"MODIFIED COLOUR\")\n",
    "print(\"\\n\")\n",
    "\n",
    "car2= Car(\"wagonar\",\"2019\",\"Black\",\"Sameer\",\"160 HP\")\n",
    "print(car2.name)\n",
    "print(car2.model)\n",
    "print(car2.colour)\n",
    "print(car2.registeration)\n",
    "print(car2.horsepower)"
   ]
  },
  {
   "cell_type": "code",
   "execution_count": null,
   "metadata": {},
   "outputs": [],
   "source": []
  }
 ],
 "metadata": {
  "kernelspec": {
   "display_name": "Python 3",
   "language": "python",
   "name": "python3"
  },
  "language_info": {
   "codemirror_mode": {
    "name": "ipython",
    "version": 3
   },
   "file_extension": ".py",
   "mimetype": "text/x-python",
   "name": "python",
   "nbconvert_exporter": "python",
   "pygments_lexer": "ipython3",
   "version": "3.7.4"
  }
 },
 "nbformat": 4,
 "nbformat_minor": 2
}
