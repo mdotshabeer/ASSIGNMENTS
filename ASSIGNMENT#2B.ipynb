{
 "cells": [
  {
   "cell_type": "code",
   "execution_count": 7,
   "metadata": {},
   "outputs": [
    {
     "name": "stdout",
     "output_type": "stream",
     "text": [
      "ENTER YOUR 1ST SUBJECT MARK = 85\n",
      "ENTER YOUR 2ND SUBJECT MARK = 98\n",
      "ENTER YOUR 3RD SUBJECT MARK = 87\n",
      "ENTER YOUR 4TH SUBJECT MARK = 67\n",
      "ENTER YOUR 5TH SUBJECT MARK = 76\n",
      "TOTAL=  413\n",
      "Grade: A+\n"
     ]
    }
   ],
   "source": [
    "mark1=int(input(\"ENTER YOUR 1ST SUBJECT MARK = \"))\n",
    "mark2=int(input(\"ENTER YOUR 2ND SUBJECT MARK = \"))\n",
    "mark3=int(input(\"ENTER YOUR 3RD SUBJECT MARK = \"))\n",
    "mark4=int(input(\"ENTER YOUR 4TH SUBJECT MARK = \"))\n",
    "mark5=int(input(\"ENTER YOUR 5TH SUBJECT MARK = \"))\n",
    "total=mark1+mark2+mark3+mark4+mark5\n",
    "print(\"TOTAL= \",total)\n",
    "avg=(mark1+mark2+mark3+mark4+mark5)/5\n",
    "if(avg>=80):\n",
    "    print(\"Grade: A+\")\n",
    "elif(avg>=70 and avg<80):\n",
    "    print(\"Grade: A\")\n",
    "elif(avg>=60 and avg<70):\n",
    "    print(\"Grade: B\")\n",
    "elif(avg>=50 and avg<60):\n",
    "    print(\"Grade: C\")\n",
    "elif(avg>=40 and avg<50):\n",
    "    print(\"Grade: F\")\n",
    "else:\n",
    "    print(\"Grade:FAIL\")"
   ]
  },
  {
   "cell_type": "code",
   "execution_count": 3,
   "metadata": {},
   "outputs": [
    {
     "name": "stdout",
     "output_type": "stream",
     "text": [
      "Enter a number: 5\n",
      "GIVEN NUMBER IS ODD.\n"
     ]
    }
   ],
   "source": [
    "num = int(input(\"Enter a number: \"))\n",
    "mod = num % 2\n",
    "if mod > 0:\n",
    "    print(\"GIVEN NUMBER IS ODD.\")\n",
    "else:\n",
    "    print(\"GIVEN NUMBER IS EVEN.\")"
   ]
  },
  {
   "cell_type": "code",
   "execution_count": 6,
   "metadata": {},
   "outputs": [
    {
     "name": "stdout",
     "output_type": "stream",
     "text": [
      "Number of items in the list =  7\n"
     ]
    }
   ],
   "source": [
    "list = [\"A\", \"B\", \"C\",'y','z', 20, 25]\n",
    " \n",
    "print(\"Number of items in the list = \", len(list))"
   ]
  },
  {
   "cell_type": "code",
   "execution_count": 11,
   "metadata": {},
   "outputs": [
    {
     "name": "stdout",
     "output_type": "stream",
     "text": [
      "59\n"
     ]
    }
   ],
   "source": [
    "lst=[5,6,7,8,9,12,3,4,5]\n",
    "b = sum(lst)\n",
    "print (b)"
   ]
  },
  {
   "cell_type": "code",
   "execution_count": 13,
   "metadata": {},
   "outputs": [
    {
     "name": "stdout",
     "output_type": "stream",
     "text": [
      "How many numbers? 4\n",
      "Enter number: 2\n",
      "Enter number: 5\n",
      "Enter number: 8\n",
      "Enter number: 7\n",
      "Largest element of the list is : 8\n"
     ]
    }
   ],
   "source": [
    "lis = []\n",
    "count = int(input('How many numbers? '))\n",
    "for n in range(count):\n",
    "    number = int(input('Enter number: '))\n",
    "    lis.append(number)\n",
    "print(\"Largest element of the list is :\", max(lis))"
   ]
  },
  {
   "cell_type": "code",
   "execution_count": 34,
   "metadata": {},
   "outputs": [
    {
     "name": "stdout",
     "output_type": "stream",
     "text": [
      "[2, 1, 2, 3, 2, 3]\n"
     ]
    }
   ],
   "source": [
    "a = [2, 1, 2, 3, 5, 12, 2, 3, 55, 89]\n",
    "\n",
    "lst = []\n",
    "\n",
    "for item in a:\n",
    "  \n",
    " if item < 5:\n",
    "    \n",
    "     lst.append(item)\n",
    "print(lst)"
   ]
  },
  {
   "cell_type": "code",
   "execution_count": null,
   "metadata": {},
   "outputs": [],
   "source": []
  }
 ],
 "metadata": {
  "kernelspec": {
   "display_name": "Python 3",
   "language": "python",
   "name": "python3"
  },
  "language_info": {
   "codemirror_mode": {
    "name": "ipython",
    "version": 3
   },
   "file_extension": ".py",
   "mimetype": "text/x-python",
   "name": "python",
   "nbconvert_exporter": "python",
   "pygments_lexer": "ipython3",
   "version": "3.7.4"
  }
 },
 "nbformat": 4,
 "nbformat_minor": 2
}
